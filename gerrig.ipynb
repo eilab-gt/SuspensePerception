{
 "cells": [
  {
   "cell_type": "code",
   "execution_count": 2,
   "metadata": {},
   "outputs": [],
   "source": [
    "MODEL_NAME='meta-llama/Llama-2-7b-chat-hf'"
   ]
  },
  {
   "cell_type": "code",
   "execution_count": 3,
   "metadata": {},
   "outputs": [
    {
     "name": "stdout",
     "output_type": "stream",
     "text": [
      "Collecting together\n",
      "  Downloading together-1.2.1-py3-none-any.whl (61 kB)\n",
      "\u001b[2K     \u001b[90m━━━━━━━━━━━━━━━━━━━━━━━━━━━━━━━━━━━━━━━\u001b[0m \u001b[32m61.4/61.4 kB\u001b[0m \u001b[31m581.7 kB/s\u001b[0m eta \u001b[36m0:00:00\u001b[0m \u001b[36m0:00:01\u001b[0mm\n",
      "\u001b[?25hCollecting aiohttp<4.0.0,>=3.9.3 (from together)\n",
      "  Downloading aiohttp-3.9.5-cp311-cp311-macosx_10_9_x86_64.whl (402 kB)\n",
      "\u001b[2K     \u001b[90m━━━━━━━━━━━━━━━━━━━━━━━━━━━━━━━━━━━━━━━\u001b[0m \u001b[32m402.4/402.4 kB\u001b[0m \u001b[31m4.0 MB/s\u001b[0m eta \u001b[36m0:00:00\u001b[0m00:01\u001b[0m00:01\u001b[0m\n",
      "\u001b[?25hCollecting click<9.0.0,>=8.1.7 (from together)\n",
      "  Using cached click-8.1.7-py3-none-any.whl (97 kB)\n",
      "Collecting eval-type-backport<0.3.0,>=0.1.3 (from together)\n",
      "  Downloading eval_type_backport-0.2.0-py3-none-any.whl (5.9 kB)\n",
      "Collecting filelock<4.0.0,>=3.13.1 (from together)\n",
      "  Downloading filelock-3.15.4-py3-none-any.whl (16 kB)\n",
      "Requirement already satisfied: numpy>=1.23.5 in /usr/local/Caskroom/miniconda/base/lib/python3.11/site-packages (from together) (1.26.1)\n",
      "Collecting pillow<11.0.0,>=10.3.0 (from together)\n",
      "  Downloading pillow-10.4.0-cp311-cp311-macosx_10_10_x86_64.whl (3.5 MB)\n",
      "\u001b[2K     \u001b[90m━━━━━━━━━━━━━━━━━━━━━━━━━━━━━━━━━━━━━━━━\u001b[0m \u001b[32m3.5/3.5 MB\u001b[0m \u001b[31m7.9 MB/s\u001b[0m eta \u001b[36m0:00:00\u001b[0m:00:01\u001b[0m00:01\u001b[0m\n",
      "\u001b[?25hCollecting pyarrow>=10.0.1 (from together)\n",
      "  Downloading pyarrow-16.1.0-cp311-cp311-macosx_10_15_x86_64.whl (28.4 MB)\n",
      "\u001b[2K     \u001b[90m━━━━━━━━━━━━━━━━━━━━━━━━━━━━━━━━━━━━━━━━\u001b[0m \u001b[32m28.4/28.4 MB\u001b[0m \u001b[31m7.1 MB/s\u001b[0m eta \u001b[36m0:00:00\u001b[0m:00:01\u001b[0m00:01\u001b[0m\n",
      "\u001b[?25hCollecting pydantic<3.0.0,>=2.6.3 (from together)\n",
      "  Downloading pydantic-2.8.2-py3-none-any.whl (423 kB)\n",
      "\u001b[2K     \u001b[90m━━━━━━━━━━━━━━━━━━━━━━━━━━━━━━━━━━━━━━━\u001b[0m \u001b[32m423.9/423.9 kB\u001b[0m \u001b[31m4.1 MB/s\u001b[0m eta \u001b[36m0:00:00\u001b[0m00:01\u001b[0m00:01\u001b[0m\n",
      "\u001b[?25hRequirement already satisfied: requests<3.0.0,>=2.31.0 in /usr/local/Caskroom/miniconda/base/lib/python3.11/site-packages (from together) (2.31.0)\n",
      "Collecting tabulate<0.10.0,>=0.9.0 (from together)\n",
      "  Downloading tabulate-0.9.0-py3-none-any.whl (35 kB)\n",
      "Collecting tqdm<5.0.0,>=4.66.2 (from together)\n",
      "  Downloading tqdm-4.66.4-py3-none-any.whl (78 kB)\n",
      "\u001b[2K     \u001b[90m━━━━━━━━━━━━━━━━━━━━━━━━━━━━━━━━━━━━━━━━\u001b[0m \u001b[32m78.3/78.3 kB\u001b[0m \u001b[31m1.1 MB/s\u001b[0m eta \u001b[36m0:00:00\u001b[0ma \u001b[36m0:00:01\u001b[0m\n",
      "\u001b[?25hCollecting typer<0.13,>=0.9 (from together)\n",
      "  Downloading typer-0.12.3-py3-none-any.whl (47 kB)\n",
      "\u001b[2K     \u001b[90m━━━━━━━━━━━━━━━━━━━━━━━━━━━━━━━━━━━━━━━━\u001b[0m \u001b[32m47.2/47.2 kB\u001b[0m \u001b[31m1.4 MB/s\u001b[0m eta \u001b[36m0:00:00\u001b[0m\n",
      "\u001b[?25hRequirement already satisfied: aiosignal>=1.1.2 in /usr/local/Caskroom/miniconda/base/lib/python3.11/site-packages (from aiohttp<4.0.0,>=3.9.3->together) (1.3.1)\n",
      "Requirement already satisfied: attrs>=17.3.0 in /usr/local/Caskroom/miniconda/base/lib/python3.11/site-packages (from aiohttp<4.0.0,>=3.9.3->together) (23.1.0)\n",
      "Requirement already satisfied: frozenlist>=1.1.1 in /usr/local/Caskroom/miniconda/base/lib/python3.11/site-packages (from aiohttp<4.0.0,>=3.9.3->together) (1.4.0)\n",
      "Requirement already satisfied: multidict<7.0,>=4.5 in /usr/local/Caskroom/miniconda/base/lib/python3.11/site-packages (from aiohttp<4.0.0,>=3.9.3->together) (6.0.4)\n",
      "Requirement already satisfied: yarl<2.0,>=1.0 in /usr/local/Caskroom/miniconda/base/lib/python3.11/site-packages (from aiohttp<4.0.0,>=3.9.3->together) (1.9.2)\n",
      "Collecting annotated-types>=0.4.0 (from pydantic<3.0.0,>=2.6.3->together)\n",
      "  Downloading annotated_types-0.7.0-py3-none-any.whl (13 kB)\n",
      "Collecting pydantic-core==2.20.1 (from pydantic<3.0.0,>=2.6.3->together)\n",
      "  Downloading pydantic_core-2.20.1-cp311-cp311-macosx_10_12_x86_64.whl (1.8 MB)\n",
      "\u001b[2K     \u001b[90m━━━━━━━━━━━━━━━━━━━━━━━━━━━━━━━━━━━━━━━━\u001b[0m \u001b[32m1.8/1.8 MB\u001b[0m \u001b[31m8.4 MB/s\u001b[0m eta \u001b[36m0:00:00\u001b[0m:00:01\u001b[0m00:01\u001b[0m\n",
      "\u001b[?25hCollecting typing-extensions>=4.6.1 (from pydantic<3.0.0,>=2.6.3->together)\n",
      "  Using cached typing_extensions-4.12.2-py3-none-any.whl (37 kB)\n",
      "Requirement already satisfied: charset-normalizer<4,>=2 in /usr/local/Caskroom/miniconda/base/lib/python3.11/site-packages (from requests<3.0.0,>=2.31.0->together) (2.0.4)\n",
      "Requirement already satisfied: idna<4,>=2.5 in /usr/local/Caskroom/miniconda/base/lib/python3.11/site-packages (from requests<3.0.0,>=2.31.0->together) (3.4)\n",
      "Requirement already satisfied: urllib3<3,>=1.21.1 in /usr/local/Caskroom/miniconda/base/lib/python3.11/site-packages (from requests<3.0.0,>=2.31.0->together) (1.26.16)\n",
      "Requirement already satisfied: certifi>=2017.4.17 in /usr/local/Caskroom/miniconda/base/lib/python3.11/site-packages (from requests<3.0.0,>=2.31.0->together) (2023.5.7)\n",
      "Collecting shellingham>=1.3.0 (from typer<0.13,>=0.9->together)\n",
      "  Downloading shellingham-1.5.4-py2.py3-none-any.whl (9.8 kB)\n",
      "Collecting rich>=10.11.0 (from typer<0.13,>=0.9->together)\n",
      "  Downloading rich-13.7.1-py3-none-any.whl (240 kB)\n",
      "\u001b[2K     \u001b[90m━━━━━━━━━━━━━━━━━━━━━━━━━━━━━━━━━━━━━━━\u001b[0m \u001b[32m240.7/240.7 kB\u001b[0m \u001b[31m5.2 MB/s\u001b[0m eta \u001b[36m0:00:00\u001b[0m00:01\u001b[0m\n",
      "\u001b[?25hCollecting markdown-it-py>=2.2.0 (from rich>=10.11.0->typer<0.13,>=0.9->together)\n",
      "  Downloading markdown_it_py-3.0.0-py3-none-any.whl (87 kB)\n",
      "\u001b[2K     \u001b[90m━━━━━━━━━━━━━━━━━━━━━━━━━━━━━━━━━━━━━━━━\u001b[0m \u001b[32m87.5/87.5 kB\u001b[0m \u001b[31m1.9 MB/s\u001b[0m eta \u001b[36m0:00:00\u001b[0ma \u001b[36m0:00:01\u001b[0m\n",
      "\u001b[?25hRequirement already satisfied: pygments<3.0.0,>=2.13.0 in /usr/local/Caskroom/miniconda/base/lib/python3.11/site-packages (from rich>=10.11.0->typer<0.13,>=0.9->together) (2.16.1)\n",
      "Collecting mdurl~=0.1 (from markdown-it-py>=2.2.0->rich>=10.11.0->typer<0.13,>=0.9->together)\n",
      "  Downloading mdurl-0.1.2-py3-none-any.whl (10.0 kB)\n",
      "Installing collected packages: typing-extensions, tqdm, tabulate, shellingham, pyarrow, pillow, mdurl, filelock, eval-type-backport, click, annotated-types, pydantic-core, markdown-it-py, aiohttp, rich, pydantic, typer, together\n",
      "  Attempting uninstall: tqdm\n",
      "    Found existing installation: tqdm 4.65.0\n",
      "    Uninstalling tqdm-4.65.0:\n",
      "      Successfully uninstalled tqdm-4.65.0\n",
      "  Attempting uninstall: aiohttp\n",
      "    Found existing installation: aiohttp 3.8.6\n",
      "    Uninstalling aiohttp-3.8.6:\n",
      "      Successfully uninstalled aiohttp-3.8.6\n",
      "Successfully installed aiohttp-3.9.5 annotated-types-0.7.0 click-8.1.7 eval-type-backport-0.2.0 filelock-3.15.4 markdown-it-py-3.0.0 mdurl-0.1.2 pillow-10.4.0 pyarrow-16.1.0 pydantic-2.8.2 pydantic-core-2.20.1 rich-13.7.1 shellingham-1.5.4 tabulate-0.9.0 together-1.2.1 tqdm-4.66.4 typer-0.12.3 typing-extensions-4.12.2\n"
     ]
    }
   ],
   "source": [
    "!pip install together"
   ]
  },
  {
   "cell_type": "code",
   "execution_count": 4,
   "metadata": {},
   "outputs": [
    {
     "name": "stdout",
     "output_type": "stream",
     "text": [
      "zsh:1: command not found: npm\n"
     ]
    }
   ],
   "source": [
    "!npm install together-ai"
   ]
  },
  {
   "cell_type": "code",
   "execution_count": 1,
   "metadata": {},
   "outputs": [],
   "source": [
    "TOGETHER_API_KEY='...'"
   ]
  },
  {
   "cell_type": "code",
   "execution_count": 5,
   "metadata": {},
   "outputs": [
    {
     "ename": "ModuleNotFoundError",
     "evalue": "No module named 'together'",
     "output_type": "error",
     "traceback": [
      "\u001b[0;31m---------------------------------------------------------------------------\u001b[0m",
      "\u001b[0;31mModuleNotFoundError\u001b[0m                       Traceback (most recent call last)",
      "Cell \u001b[0;32mIn[5], line 2\u001b[0m\n\u001b[1;32m      1\u001b[0m \u001b[38;5;28;01mimport\u001b[39;00m \u001b[38;5;21;01mos\u001b[39;00m\n\u001b[0;32m----> 2\u001b[0m \u001b[38;5;28;01mfrom\u001b[39;00m \u001b[38;5;21;01mtogether\u001b[39;00m \u001b[38;5;28;01mimport\u001b[39;00m Together\n",
      "\u001b[0;31mModuleNotFoundError\u001b[0m: No module named 'together'"
     ]
    }
   ],
   "source": [
    "import os\n",
    "from together import Together"
   ]
  },
  {
   "cell_type": "code",
   "execution_count": null,
   "metadata": {},
   "outputs": [],
   "source": [
    "experiment_A_prompt = f\"\"\"The following is an excerpt from Fleming’s first James Bond novel, \"Casino Royale\". In this book, Bond has been assigned to ‘ruin’ a criminal figure named Le Chiffre by, as it happens, causing Le Chiffre to lose a considerable amount of money gambling. Along the way, Bond has acquired a lady interest named Vesper. Although Bond has, in fact, brought about the gambling losses, Le Chiffre has laid a successful trap for Bond. Bond and Vesper are now the prisoners of Le Chiffre and his two gunmen.\n",
    "\n",
    "\"\"\"\n",
    "{STORY}\n",
    "\"\"\"\n",
    "\n",
    "Use the passage above to answer the following questions:\n",
    "\n",
    "***Question 1: \"How likely is it that Bond will escape from Le Chiffre?\"***\n",
    "1. Not very likely\n",
    "2. Somewhat likely\n",
    "3. Moderately likely\n",
    "4. Likely\n",
    "5. Quite likely\n",
    "6. Very likely\n",
    "7. Extremely likely\n",
    "\n",
    "***Question 2: \"How suspenseful do you find this passage to be?\"***\n",
    "1. Not very suspenseful\n",
    "2. Somewhat suspenseful\n",
    "3. Moderately suspenseful\n",
    "4. Suspenseful\n",
    "5. Quite suspenseful\n",
    "6. Very suspenseful\n",
    "7. Extremely suspenseful\n",
    "\n",
    "Respond using the following format then stop generating:\n",
    "\"\"\"\n",
    "Q1: [1-7]\n",
    "Q2: [1-7]\n",
    "\"\"\"\n",
    "\"\"\"\n",
    "\n",
    "experiment_A_pen_not_mentioned = \"\"\"Le Chiffre was standing in the doorway of a room on the right. He crooked a finger at Bond in a silent, spidery summons.\n",
    "  Vesper was being led down a passage towards the back of the house. Bond suddenly decided. With a backward kick which connected with the thin man’s shins and brought a whistle of pain from him, Bond hurled himself down the passage after her. His plan was to do as much damage as possible to the two gunmen and be able to exchange a few hurried words with the girl.\n",
    "  Like lightning the Corsican slammed himself back against the wall of the passage and, as Bond’s foot whistled past his hip, he very quickly, but somehow delicately, shot out his left hand, caught Bond’s shoe at the top of its arc, and twisted it sharply. As he crashed to the ground, Bond rolled agilely and, with a motion in which he took great pride, he righted himself with minimal damage.\n",
    "  “Search him.” barked Le Chiffre.\n",
    "  The two gunmen dragged Bond to his feet. While the thin man kept his gun trained on Bond’s unquiet chest, the Corsican roughly stripped Bond’s revolver out of its shoulder holster. He twisted Bond around brusquely in search of other weaponry. Le Chiffre observed his assistant’s work attentively. Then, as if reading Bond’s thoughts, he crossed the room and said, “Come my dear friend. Let’s not waste time.”\n",
    "\"\"\"\n",
    "\n",
    "experiment_A_pen_mentioned_removed = \"\"\"  Le Chiffre was standing in the doorway of a room on the right. He crooked a finger at Bond in a silent, spidery summons.\n",
    "  Vesper was being led down a passage towards the back of the house. Bond suddenly decided. With a backward kick which connected with the thin man’s shins and brought a whistle of pain from him, Bond hurled himself down the passage after her. His plan was to do as much damage as possible to the two gunmen and be able to exchange a few hurried words with the girl.\n",
    "  Like lightning the Corsican slammed himself back against the wall of the passage and, as Bond’s foot whistled past his hip, he very quickly, but somehow delicately, shot out his left hand, caught Bond’s shoe at the top of its arc, and twisted it sharply. As he crashed to the ground, Bond rolled agilely and, with a motion that he hoped went unnoticed, moved his fountain pen deeper into his breast pocket.\n",
    "  “Search him.” barked Le Chiffre.\n",
    "  The two gunmen dragged Bond to his feet. While the thin man kept his gun trained on Bond’s unquiet chest, the Corsican roughly stripped Bond’s revolver out of its shoulder holster. He twisted Bond around brusquely in search of other weaponry. Le Chiffre observed his assistant’s work attentively. Then, as if reading Bond’s thoughts, he crossed the room and snatched away Bond’s fountain pen. “Come my dear friend,” said Le Chiffre. “Let’s not waste time.”\n",
    "\"\"\"\n",
    "\n"
   ]
  },
  {
   "cell_type": "code",
   "execution_count": null,
   "metadata": {},
   "outputs": [],
   "source": [
    "\n",
    "client = Together(api_key=os.environ.get(\"TOGETHER_API_KEY\"))\n",
    "\n",
    "response = client.chat.completions.create(\n",
    "    model=\"meta-llama/Llama-2-7b-chat-hf\",\n",
    "    messages=[\n",
    "        # {\"role\": \"system\", \"content\": \"You are a literature expert who can detect suspense    .\"},\n",
    "        {\"role\": \"user\", \"content\": \"What are some fun things to do in New York?\"}],\n",
    ")\n",
    "\n",
    "print(response.choices[0].message.content)"
   ]
  }
 ],
 "metadata": {
  "kernelspec": {
   "display_name": "Python 3",
   "language": "python",
   "name": "python3"
  },
  "language_info": {
   "codemirror_mode": {
    "name": "ipython",
    "version": 3
   },
   "file_extension": ".py",
   "mimetype": "text/x-python",
   "name": "python",
   "nbconvert_exporter": "python",
   "pygments_lexer": "ipython3",
   "version": "3.11.6"
  }
 },
 "nbformat": 4,
 "nbformat_minor": 2
}
