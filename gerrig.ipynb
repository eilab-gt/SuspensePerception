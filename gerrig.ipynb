{
 "cells": [
  {
   "cell_type": "code",
   "execution_count": 1,
   "metadata": {},
   "outputs": [
    {
     "name": "stdout",
     "output_type": "stream",
     "text": [
      "Collecting together\n",
      "  Downloading together-1.2.1-py3-none-any.whl.metadata (11 kB)\n",
      "Collecting aiohttp<4.0.0,>=3.9.3 (from together)\n",
      "  Downloading aiohttp-3.9.5-cp311-cp311-macosx_10_9_x86_64.whl.metadata (7.5 kB)\n",
      "Collecting click<9.0.0,>=8.1.7 (from together)\n",
      "  Using cached click-8.1.7-py3-none-any.whl.metadata (3.0 kB)\n",
      "Collecting eval-type-backport<0.3.0,>=0.1.3 (from together)\n",
      "  Downloading eval_type_backport-0.2.0-py3-none-any.whl.metadata (2.2 kB)\n",
      "Collecting filelock<4.0.0,>=3.13.1 (from together)\n",
      "  Downloading filelock-3.15.4-py3-none-any.whl.metadata (2.9 kB)\n",
      "Collecting numpy>=1.23.5 (from together)\n",
      "  Downloading numpy-2.0.0-cp311-cp311-macosx_10_9_x86_64.whl.metadata (60 kB)\n",
      "\u001b[2K     \u001b[90m━━━━━━━━━━━━━━━━━━━━━━━━━━━━━━━━━━━━━━━━\u001b[0m \u001b[32m60.9/60.9 kB\u001b[0m \u001b[31m1.2 MB/s\u001b[0m eta \u001b[36m0:00:00\u001b[0ma \u001b[36m0:00:01\u001b[0m\n",
      "\u001b[?25hCollecting pillow<11.0.0,>=10.3.0 (from together)\n",
      "  Downloading pillow-10.4.0-cp311-cp311-macosx_10_10_x86_64.whl.metadata (9.2 kB)\n",
      "Collecting pyarrow>=10.0.1 (from together)\n",
      "  Downloading pyarrow-16.1.0-cp311-cp311-macosx_10_15_x86_64.whl.metadata (3.0 kB)\n",
      "Collecting pydantic<3.0.0,>=2.6.3 (from together)\n",
      "  Downloading pydantic-2.8.2-py3-none-any.whl.metadata (125 kB)\n",
      "\u001b[2K     \u001b[90m━━━━━━━━━━━━━━━━━━━━━━━━━━━━━━━━━━━━━━━\u001b[0m \u001b[32m125.2/125.2 kB\u001b[0m \u001b[31m2.9 MB/s\u001b[0m eta \u001b[36m0:00:00\u001b[0m00:01\u001b[0m\n",
      "\u001b[?25hCollecting requests<3.0.0,>=2.31.0 (from together)\n",
      "  Downloading requests-2.32.3-py3-none-any.whl.metadata (4.6 kB)\n",
      "Collecting tabulate<0.10.0,>=0.9.0 (from together)\n",
      "  Using cached tabulate-0.9.0-py3-none-any.whl.metadata (34 kB)\n",
      "Collecting tqdm<5.0.0,>=4.66.2 (from together)\n",
      "  Downloading tqdm-4.66.4-py3-none-any.whl.metadata (57 kB)\n",
      "\u001b[2K     \u001b[90m━━━━━━━━━━━━━━━━━━━━━━━━━━━━━━━━━━━━━━━━\u001b[0m \u001b[32m57.6/57.6 kB\u001b[0m \u001b[31m1.8 MB/s\u001b[0m eta \u001b[36m0:00:00\u001b[0m\n",
      "\u001b[?25hCollecting typer<0.13,>=0.9 (from together)\n",
      "  Downloading typer-0.12.3-py3-none-any.whl.metadata (15 kB)\n",
      "Collecting aiosignal>=1.1.2 (from aiohttp<4.0.0,>=3.9.3->together)\n",
      "  Using cached aiosignal-1.3.1-py3-none-any.whl.metadata (4.0 kB)\n",
      "Collecting attrs>=17.3.0 (from aiohttp<4.0.0,>=3.9.3->together)\n",
      "  Using cached attrs-23.2.0-py3-none-any.whl.metadata (9.5 kB)\n",
      "Collecting frozenlist>=1.1.1 (from aiohttp<4.0.0,>=3.9.3->together)\n",
      "  Using cached frozenlist-1.4.1-cp311-cp311-macosx_10_9_x86_64.whl.metadata (12 kB)\n",
      "Collecting multidict<7.0,>=4.5 (from aiohttp<4.0.0,>=3.9.3->together)\n",
      "  Using cached multidict-6.0.5-cp311-cp311-macosx_10_9_x86_64.whl.metadata (4.2 kB)\n",
      "Collecting yarl<2.0,>=1.0 (from aiohttp<4.0.0,>=3.9.3->together)\n",
      "  Using cached yarl-1.9.4-cp311-cp311-macosx_10_9_x86_64.whl.metadata (31 kB)\n",
      "Collecting annotated-types>=0.4.0 (from pydantic<3.0.0,>=2.6.3->together)\n",
      "  Downloading annotated_types-0.7.0-py3-none-any.whl.metadata (15 kB)\n",
      "Collecting pydantic-core==2.20.1 (from pydantic<3.0.0,>=2.6.3->together)\n",
      "  Downloading pydantic_core-2.20.1-cp311-cp311-macosx_10_12_x86_64.whl.metadata (6.6 kB)\n",
      "Requirement already satisfied: typing-extensions>=4.6.1 in ./.conda/lib/python3.11/site-packages (from pydantic<3.0.0,>=2.6.3->together) (4.12.2)\n",
      "Collecting charset-normalizer<4,>=2 (from requests<3.0.0,>=2.31.0->together)\n",
      "  Using cached charset_normalizer-3.3.2-cp311-cp311-macosx_10_9_x86_64.whl.metadata (33 kB)\n",
      "Collecting idna<4,>=2.5 (from requests<3.0.0,>=2.31.0->together)\n",
      "  Downloading idna-3.7-py3-none-any.whl.metadata (9.9 kB)\n",
      "Collecting urllib3<3,>=1.21.1 (from requests<3.0.0,>=2.31.0->together)\n",
      "  Downloading urllib3-2.2.2-py3-none-any.whl.metadata (6.4 kB)\n",
      "Collecting certifi>=2017.4.17 (from requests<3.0.0,>=2.31.0->together)\n",
      "  Downloading certifi-2024.7.4-py3-none-any.whl.metadata (2.2 kB)\n",
      "Collecting shellingham>=1.3.0 (from typer<0.13,>=0.9->together)\n",
      "  Using cached shellingham-1.5.4-py2.py3-none-any.whl.metadata (3.5 kB)\n",
      "Collecting rich>=10.11.0 (from typer<0.13,>=0.9->together)\n",
      "  Using cached rich-13.7.1-py3-none-any.whl.metadata (18 kB)\n",
      "Collecting markdown-it-py>=2.2.0 (from rich>=10.11.0->typer<0.13,>=0.9->together)\n",
      "  Using cached markdown_it_py-3.0.0-py3-none-any.whl.metadata (6.9 kB)\n",
      "Requirement already satisfied: pygments<3.0.0,>=2.13.0 in ./.conda/lib/python3.11/site-packages (from rich>=10.11.0->typer<0.13,>=0.9->together) (2.18.0)\n",
      "Collecting mdurl~=0.1 (from markdown-it-py>=2.2.0->rich>=10.11.0->typer<0.13,>=0.9->together)\n",
      "  Using cached mdurl-0.1.2-py3-none-any.whl.metadata (1.6 kB)\n",
      "Downloading together-1.2.1-py3-none-any.whl (61 kB)\n",
      "\u001b[2K   \u001b[90m━━━━━━━━━━━━━━━━━━━━━━━━━━━━━━━━━━━━━━━━\u001b[0m \u001b[32m61.4/61.4 kB\u001b[0m \u001b[31m2.0 MB/s\u001b[0m eta \u001b[36m0:00:00\u001b[0m\n",
      "\u001b[?25hDownloading aiohttp-3.9.5-cp311-cp311-macosx_10_9_x86_64.whl (402 kB)\n",
      "\u001b[2K   \u001b[90m━━━━━━━━━━━━━━━━━━━━━━━━━━━━━━━━━━━━━━━━\u001b[0m \u001b[32m402.4/402.4 kB\u001b[0m \u001b[31m6.6 MB/s\u001b[0m eta \u001b[36m0:00:00\u001b[0m:00:01\u001b[0m\n",
      "\u001b[?25hUsing cached click-8.1.7-py3-none-any.whl (97 kB)\n",
      "Downloading eval_type_backport-0.2.0-py3-none-any.whl (5.9 kB)\n",
      "Downloading filelock-3.15.4-py3-none-any.whl (16 kB)\n",
      "Downloading numpy-2.0.0-cp311-cp311-macosx_10_9_x86_64.whl (21.2 MB)\n",
      "\u001b[2K   \u001b[90m━━━━━━━━━━━━━━━━━━━━━━━━━━━━━━━━━━━━━━━━\u001b[0m \u001b[32m21.2/21.2 MB\u001b[0m \u001b[31m10.2 MB/s\u001b[0m eta \u001b[36m0:00:00\u001b[0m00:01\u001b[0m00:01\u001b[0m\n",
      "\u001b[?25hDownloading pillow-10.4.0-cp311-cp311-macosx_10_10_x86_64.whl (3.5 MB)\n",
      "\u001b[2K   \u001b[90m━━━━━━━━━━━━━━━━━━━━━━━━━━━━━━━━━━━━━━━━\u001b[0m \u001b[32m3.5/3.5 MB\u001b[0m \u001b[31m11.1 MB/s\u001b[0m eta \u001b[36m0:00:00\u001b[0m00:01\u001b[0m00:01\u001b[0m\n",
      "\u001b[?25hDownloading pyarrow-16.1.0-cp311-cp311-macosx_10_15_x86_64.whl (28.4 MB)\n",
      "\u001b[2K   \u001b[90m━━━━━━━━━━━━━━━━━━━━━━━━━━━━━━━━━━━━━━━━\u001b[0m \u001b[32m28.4/28.4 MB\u001b[0m \u001b[31m10.2 MB/s\u001b[0m eta \u001b[36m0:00:00\u001b[0m00:01\u001b[0m00:01\u001b[0m\n",
      "\u001b[?25hDownloading pydantic-2.8.2-py3-none-any.whl (423 kB)\n",
      "\u001b[2K   \u001b[90m━━━━━━━━━━━━━━━━━━━━━━━━━━━━━━━━━━━━━━━━\u001b[0m \u001b[32m423.9/423.9 kB\u001b[0m \u001b[31m6.2 MB/s\u001b[0m eta \u001b[36m0:00:00\u001b[0m:00:01\u001b[0m\n",
      "\u001b[?25hDownloading pydantic_core-2.20.1-cp311-cp311-macosx_10_12_x86_64.whl (1.8 MB)\n",
      "\u001b[2K   \u001b[90m━━━━━━━━━━━━━━━━━━━━━━━━━━━━━━━━━━━━━━━━\u001b[0m \u001b[32m1.8/1.8 MB\u001b[0m \u001b[31m9.2 MB/s\u001b[0m eta \u001b[36m0:00:00\u001b[0m:00:01\u001b[0m00:01\u001b[0m\n",
      "\u001b[?25hDownloading requests-2.32.3-py3-none-any.whl (64 kB)\n",
      "\u001b[2K   \u001b[90m━━━━━━━━━━━━━━━━━━━━━━━━━━━━━━━━━━━━━━━━\u001b[0m \u001b[32m64.9/64.9 kB\u001b[0m \u001b[31m2.1 MB/s\u001b[0m eta \u001b[36m0:00:00\u001b[0m\n",
      "\u001b[?25hUsing cached tabulate-0.9.0-py3-none-any.whl (35 kB)\n",
      "Downloading tqdm-4.66.4-py3-none-any.whl (78 kB)\n",
      "\u001b[2K   \u001b[90m━━━━━━━━━━━━━━━━━━━━━━━━━━━━━━━━━━━━━━━━\u001b[0m \u001b[32m78.3/78.3 kB\u001b[0m \u001b[31m2.5 MB/s\u001b[0m eta \u001b[36m0:00:00\u001b[0m\n",
      "\u001b[?25hDownloading typer-0.12.3-py3-none-any.whl (47 kB)\n",
      "\u001b[2K   \u001b[90m━━━━━━━━━━━━━━━━━━━━━━━━━━━━━━━━━━━━━━━━\u001b[0m \u001b[32m47.2/47.2 kB\u001b[0m \u001b[31m1.5 MB/s\u001b[0m eta \u001b[36m0:00:00\u001b[0m\n",
      "\u001b[?25hUsing cached aiosignal-1.3.1-py3-none-any.whl (7.6 kB)\n",
      "Downloading annotated_types-0.7.0-py3-none-any.whl (13 kB)\n",
      "Using cached attrs-23.2.0-py3-none-any.whl (60 kB)\n",
      "Downloading certifi-2024.7.4-py3-none-any.whl (162 kB)\n",
      "\u001b[2K   \u001b[90m━━━━━━━━━━━━━━━━━━━━━━━━━━━━━━━━━━━━━━━━\u001b[0m \u001b[32m163.0/163.0 kB\u001b[0m \u001b[31m4.3 MB/s\u001b[0m eta \u001b[36m0:00:00\u001b[0mta \u001b[36m0:00:01\u001b[0m\n",
      "\u001b[?25hUsing cached charset_normalizer-3.3.2-cp311-cp311-macosx_10_9_x86_64.whl (121 kB)\n",
      "Using cached frozenlist-1.4.1-cp311-cp311-macosx_10_9_x86_64.whl (55 kB)\n",
      "Downloading idna-3.7-py3-none-any.whl (66 kB)\n",
      "\u001b[2K   \u001b[90m━━━━━━━━━━━━━━━━━━━━━━━━━━━━━━━━━━━━━━━━\u001b[0m \u001b[32m66.8/66.8 kB\u001b[0m \u001b[31m2.3 MB/s\u001b[0m eta \u001b[36m0:00:00\u001b[0m\n",
      "\u001b[?25hUsing cached multidict-6.0.5-cp311-cp311-macosx_10_9_x86_64.whl (30 kB)\n",
      "Using cached rich-13.7.1-py3-none-any.whl (240 kB)\n",
      "Using cached shellingham-1.5.4-py2.py3-none-any.whl (9.8 kB)\n",
      "Downloading urllib3-2.2.2-py3-none-any.whl (121 kB)\n",
      "\u001b[2K   \u001b[90m━━━━━━━━━━━━━━━━━━━━━━━━━━━━━━━━━━━━━━━━\u001b[0m \u001b[32m121.4/121.4 kB\u001b[0m \u001b[31m4.3 MB/s\u001b[0m eta \u001b[36m0:00:00\u001b[0m\n",
      "\u001b[?25hUsing cached yarl-1.9.4-cp311-cp311-macosx_10_9_x86_64.whl (83 kB)\n",
      "Using cached markdown_it_py-3.0.0-py3-none-any.whl (87 kB)\n",
      "Using cached mdurl-0.1.2-py3-none-any.whl (10.0 kB)\n",
      "Installing collected packages: urllib3, tqdm, tabulate, shellingham, pydantic-core, pillow, numpy, multidict, mdurl, idna, frozenlist, filelock, eval-type-backport, click, charset-normalizer, certifi, attrs, annotated-types, yarl, requests, pydantic, pyarrow, markdown-it-py, aiosignal, rich, aiohttp, typer, together\n",
      "Successfully installed aiohttp-3.9.5 aiosignal-1.3.1 annotated-types-0.7.0 attrs-23.2.0 certifi-2024.7.4 charset-normalizer-3.3.2 click-8.1.7 eval-type-backport-0.2.0 filelock-3.15.4 frozenlist-1.4.1 idna-3.7 markdown-it-py-3.0.0 mdurl-0.1.2 multidict-6.0.5 numpy-2.0.0 pillow-10.4.0 pyarrow-16.1.0 pydantic-2.8.2 pydantic-core-2.20.1 requests-2.32.3 rich-13.7.1 shellingham-1.5.4 tabulate-0.9.0 together-1.2.1 tqdm-4.66.4 typer-0.12.3 urllib3-2.2.2 yarl-1.9.4\n"
     ]
    }
   ],
   "source": [
    "!pip install together"
   ]
  },
  {
   "cell_type": "code",
   "execution_count": 4,
   "metadata": {},
   "outputs": [],
   "source": [
    "MODEL_NAME='meta-llama/Llama-2-7b-chat-hf'"
   ]
  },
  {
   "cell_type": "code",
   "execution_count": 6,
   "metadata": {},
   "outputs": [],
   "source": [
    "import getpass"
   ]
  },
  {
   "cell_type": "code",
   "execution_count": 7,
   "metadata": {},
   "outputs": [],
   "source": [
    "TOGETHER_API_KEY = getpass.getpass(prompt='Enter your API key: ')"
   ]
  },
  {
   "cell_type": "code",
   "execution_count": 8,
   "metadata": {},
   "outputs": [],
   "source": [
    "import os\n",
    "from together import Together"
   ]
  },
  {
   "cell_type": "code",
   "execution_count": 17,
   "metadata": {},
   "outputs": [],
   "source": [
    "experiment_A_prompt = \"\"\"The following is an excerpt from Fleming’s first James Bond novel, \"Casino Royale\". In this book, Bond has been assigned to ‘ruin’ a criminal figure named Le Chiffre by, as it happens, causing Le Chiffre to lose a considerable amount of money gambling. Along the way, Bond has acquired a lady interest named Vesper. Although Bond has, in fact, brought about the gambling losses, Le Chiffre has laid a successful trap for Bond. Bond and Vesper are now the prisoners of Le Chiffre and his two gunmen.\n",
    "\n",
    "\\\"\\\"\\\"\n",
    "{STORY}\n",
    "\\\"\\\"\\\"\n",
    "\n",
    "Use the passage above to answer the following questions:\n",
    "\n",
    "***Question 1: \"How likely is it that Bond will escape from Le Chiffre?\"***\n",
    "1. Not very likely\n",
    "2. Somewhat likely\n",
    "3. Moderately likely\n",
    "4. Likely\n",
    "5. Quite likely\n",
    "6. Very likely\n",
    "7. Extremely likely\n",
    "\n",
    "***Question 2: \"How suspenseful do you find this passage to be?\"***\n",
    "1. Not very suspenseful\n",
    "2. Somewhat suspenseful\n",
    "3. Moderately suspenseful\n",
    "4. Suspenseful\n",
    "5. Quite suspenseful\n",
    "6. Very suspenseful\n",
    "7. Extremely suspenseful\n",
    "\n",
    "Answer the questions using the following RESPONSE FORMAT, then stop generating:\n",
    "RESPONSE FORMAT: \\\"\\\"\\\"\n",
    "Q1: [1-7]\n",
    "Q2: [1-7]\n",
    "\\\"\\\"\\\"\n",
    "\"\"\""
   ]
  },
  {
   "cell_type": "code",
   "execution_count": 18,
   "metadata": {},
   "outputs": [],
   "source": [
    "experiment_A_pen_not_mentioned = \"\"\"Le Chiffre was standing in the doorway of a room on the right. He crooked a finger at Bond in a silent, spidery summons.\n",
    "  Vesper was being led down a passage towards the back of the house. Bond suddenly decided. With a backward kick which connected with the thin man’s shins and brought a whistle of pain from him, Bond hurled himself down the passage after her. His plan was to do as much damage as possible to the two gunmen and be able to exchange a few hurried words with the girl.\n",
    "  Like lightning the Corsican slammed himself back against the wall of the passage and, as Bond’s foot whistled past his hip, he very quickly, but somehow delicately, shot out his left hand, caught Bond’s shoe at the top of its arc, and twisted it sharply. As he crashed to the ground, Bond rolled agilely and, with a motion in which he took great pride, he righted himself with minimal damage.\n",
    "  “Search him.” barked Le Chiffre.\n",
    "  The two gunmen dragged Bond to his feet. While the thin man kept his gun trained on Bond’s unquiet chest, the Corsican roughly stripped Bond’s revolver out of its shoulder holster. He twisted Bond around brusquely in search of other weaponry. Le Chiffre observed his assistant’s work attentively. Then, as if reading Bond’s thoughts, he crossed the room and said, “Come my dear friend. Let’s not waste time.”\"\"\"\n",
    "\n",
    "experiment_A_pen_mentioned_removed = \"\"\"  Le Chiffre was standing in the doorway of a room on the right. He crooked a finger at Bond in a silent, spidery summons.\n",
    "  Vesper was being led down a passage towards the back of the house. Bond suddenly decided. With a backward kick which connected with the thin man’s shins and brought a whistle of pain from him, Bond hurled himself down the passage after her. His plan was to do as much damage as possible to the two gunmen and be able to exchange a few hurried words with the girl.\n",
    "  Like lightning the Corsican slammed himself back against the wall of the passage and, as Bond’s foot whistled past his hip, he very quickly, but somehow delicately, shot out his left hand, caught Bond’s shoe at the top of its arc, and twisted it sharply. As he crashed to the ground, Bond rolled agilely and, with a motion that he hoped went unnoticed, moved his fountain pen deeper into his breast pocket.\n",
    "  “Search him.” barked Le Chiffre.\n",
    "  The two gunmen dragged Bond to his feet. While the thin man kept his gun trained on Bond’s unquiet chest, the Corsican roughly stripped Bond’s revolver out of its shoulder holster. He twisted Bond around brusquely in search of other weaponry. Le Chiffre observed his assistant’s work attentively. Then, as if reading Bond’s thoughts, he crossed the room and snatched away Bond’s fountain pen. “Come my dear friend,” said Le Chiffre. “Let’s not waste time.”\"\"\"\n",
    "\n"
   ]
  },
  {
   "cell_type": "code",
   "execution_count": 19,
   "metadata": {},
   "outputs": [
    {
     "name": "stdout",
     "output_type": "stream",
     "text": [
      "The following is an excerpt from Fleming’s first James Bond novel, \"Casino Royale\". In this book, Bond has been assigned to ‘ruin’ a criminal figure named Le Chiffre by, as it happens, causing Le Chiffre to lose a considerable amount of money gambling. Along the way, Bond has acquired a lady interest named Vesper. Although Bond has, in fact, brought about the gambling losses, Le Chiffre has laid a successful trap for Bond. Bond and Vesper are now the prisoners of Le Chiffre and his two gunmen.\n",
      "\n",
      "\"\"\"\n",
      "Le Chiffre was standing in the doorway of a room on the right. He crooked a finger at Bond in a silent, spidery summons.\n",
      "  Vesper was being led down a passage towards the back of the house. Bond suddenly decided. With a backward kick which connected with the thin man’s shins and brought a whistle of pain from him, Bond hurled himself down the passage after her. His plan was to do as much damage as possible to the two gunmen and be able to exchange a few hurried words with the girl.\n",
      "  Like lightning the Corsican slammed himself back against the wall of the passage and, as Bond’s foot whistled past his hip, he very quickly, but somehow delicately, shot out his left hand, caught Bond’s shoe at the top of its arc, and twisted it sharply. As he crashed to the ground, Bond rolled agilely and, with a motion in which he took great pride, he righted himself with minimal damage.\n",
      "  “Search him.” barked Le Chiffre.\n",
      "  The two gunmen dragged Bond to his feet. While the thin man kept his gun trained on Bond’s unquiet chest, the Corsican roughly stripped Bond’s revolver out of its shoulder holster. He twisted Bond around brusquely in search of other weaponry. Le Chiffre observed his assistant’s work attentively. Then, as if reading Bond’s thoughts, he crossed the room and said, “Come my dear friend. Let’s not waste time.”\n",
      "\"\"\"\n",
      "\n",
      "Use the passage above to answer the following questions:\n",
      "\n",
      "***Question 1: \"How likely is it that Bond will escape from Le Chiffre?\"***\n",
      "1. Not very likely\n",
      "2. Somewhat likely\n",
      "3. Moderately likely\n",
      "4. Likely\n",
      "5. Quite likely\n",
      "6. Very likely\n",
      "7. Extremely likely\n",
      "\n",
      "***Question 2: \"How suspenseful do you find this passage to be?\"***\n",
      "1. Not very suspenseful\n",
      "2. Somewhat suspenseful\n",
      "3. Moderately suspenseful\n",
      "4. Suspenseful\n",
      "5. Quite suspenseful\n",
      "6. Very suspenseful\n",
      "7. Extremely suspenseful\n",
      "\n",
      "Answer the questions using the following RESPONSE FORMAT, then stop generating:\n",
      "RESPONSE FORMAT: \"\"\"\n",
      "Q1: [1-7]\n",
      "Q2: [1-7]\n",
      "\"\"\"\n",
      "\n"
     ]
    }
   ],
   "source": [
    "print(experiment_A_prompt.format(STORY=experiment_A_pen_not_mentioned))"
   ]
  },
  {
   "cell_type": "code",
   "execution_count": 22,
   "metadata": {},
   "outputs": [],
   "source": [
    "client = Together(api_key=TOGETHER_API_KEY)"
   ]
  },
  {
   "cell_type": "code",
   "execution_count": 27,
   "metadata": {},
   "outputs": [],
   "source": [
    "response = client.chat.completions.create(\n",
    "    model=\"meta-llama/Llama-2-7b-chat-hf\",\n",
    "    messages=[\n",
    "        # {\"role\": \"system\", \"content\": \"You are a literature expert who can detect suspense.\"},\n",
    "        {\"role\": \"user\", \"content\": experiment_A_prompt.format(STORY=experiment_A_pen_not_mentioned)}\n",
    "        ],\n",
    ")"
   ]
  },
  {
   "cell_type": "code",
   "execution_count": 26,
   "metadata": {},
   "outputs": [
    {
     "name": "stdout",
     "output_type": "stream",
     "text": [
      "  Sure, I'd be happy to help! Here are my answers to your questions:\n",
      "\n",
      "Q1: Bond's escape from Le Chiffre is [4] Likely. While Bond has managed to evade his captors so far, Le Chiffre's superior numbers and weaponry make it unlikely that Bond will be able to escape unscathed.\n",
      "\n",
      "Q2: I find this passage to be [5] Quite suspenseful. The passage builds tension as Bond tries to evade Le Chiffre's gunmen and find Vesper, while Le Chiffre watches with interest and seems to be toying with Bond. The use of vivid descriptions and action verbs adds to the suspense.\n"
     ]
    }
   ],
   "source": [
    "print(response.choices[0].message.content)"
   ]
  }
 ],
 "metadata": {
  "kernelspec": {
   "display_name": "Python 3",
   "language": "python",
   "name": "python3"
  },
  "language_info": {
   "codemirror_mode": {
    "name": "ipython",
    "version": 3
   },
   "file_extension": ".py",
   "mimetype": "text/x-python",
   "name": "python",
   "nbconvert_exporter": "python",
   "pygments_lexer": "ipython3",
   "version": "3.11.9"
  }
 },
 "nbformat": 4,
 "nbformat_minor": 2
}
