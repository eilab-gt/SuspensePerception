{
 "cells": [
  {
   "cell_type": "code",
   "execution_count": null,
   "metadata": {},
   "outputs": [],
   "source": [
    "import matplotlib.pyplot as plt\n",
    "import os\n",
    "import pandas as pd\n",
    "import glob\n",
    "import ast\n",
    "import numpy as np\n",
    "import re\n",
    "\n",
    "%load_ext autoreload\n",
    "%autoreload 2\n"
   ]
  },
  {
   "cell_type": "code",
   "execution_count": null,
   "metadata": {},
   "outputs": [],
   "source": [
    "# target = \"gerrig\"\n",
    "target = \"delatorre\""
   ]
  },
  {
   "cell_type": "code",
   "execution_count": null,
   "metadata": {},
   "outputs": [],
   "source": [
    "LOGDIR = '../outputs/'\n",
    "\n",
    "assert os.path.isdir(LOGDIR), f\"Directory {LOGDIR} does not exist\"\n",
    "\n",
    "glob_path = os.path.join(LOGDIR, '**/adversarial/**/**/**/**/*.csv')\n",
    "# print(glob_path)\n",
    "\n",
    "glob_list = glob.glob(glob_path)\n",
    "\n",
    "dfs = []\n",
    "\n",
    "for dataframe_path in glob_list:\n",
    "    # print(dataframe_path)\n",
    "\n",
    "    dataframe_path = dataframe_path.replace(os.sep, \"/\")\n",
    "\n",
    "    match = re.search(r'/(?P<experiment>[^/]+)_experiment/adversarial/(?P<attack>[^/]+)/(?P<iter>[^/]+)/(?P<model>[^/]+)/(?:[^/]+)/results\\.csv$', dataframe_path)\n",
    "    if match:\n",
    "        experiment = match.group('experiment')\n",
    "        attack = match.group('attack')\n",
    "        iter = match.group('iter')\n",
    "        model = match.group('model')\n",
    "\n",
    "        df = pd.read_csv(dataframe_path)\n",
    "        df[\"experiment\"] = experiment\n",
    "        df[\"attack\"] = attack\n",
    "        df[\"iter\"] = iter\n",
    "        df[\"model\"] = model\n",
    "        dfs.append(df)\n",
    "    else:\n",
    "        raise ValueError(f\"Could not parse experiment, attack, iter, model from {dataframe_path}\")\n",
    "\n",
    "df = pd.concat(dfs)\n",
    "df.to_csv('all_results.csv', index=False)    "
   ]
  },
  {
   "cell_type": "code",
   "execution_count": null,
   "metadata": {},
   "outputs": [],
   "source": [
    "def parse_experiment(_df : pd.DataFrame, experiment_name : str):\n",
    "    _df = _df[_df['experiment'] == experiment_name].drop(columns=['experiment'])\n",
    "    _df['response'] = _df['response'].apply(ast.literal_eval)\n",
    "    keys = list(_df['response'].iloc[0].keys())\n",
    "    # print(keys)\n",
    "    _response_df = _df['response'].apply(pd.Series)\n",
    "    _df = pd.concat([_df, _response_df], axis=1).drop(columns=['response'])\n",
    "\n",
    "    _df['mean_score'] = _df[keys].mean(axis=1)\n",
    "    _df = _df.groupby(['experiment_name', 'version', 'attack', 'iter'])[keys + ['mean_score']].mean().reset_index()\n",
    "    _df = _df.groupby(['experiment_name', 'version', 'attack'])[keys + ['mean_score']].agg(['mean', 'std']).reset_index()\n",
    "\n",
    "    return _df"
   ]
  },
  {
   "cell_type": "code",
   "execution_count": null,
   "metadata": {},
   "outputs": [],
   "source": [
    "for experiment in df['experiment'].unique():\n",
    "    # print(experiment)\n",
    "    out = parse_experiment(df, experiment)\n",
    "    out.to_csv(f'{experiment}_results.csv', index=False)"
   ]
  },
  {
   "cell_type": "code",
   "execution_count": null,
   "metadata": {},
   "outputs": [],
   "source": [
    "out = parse_experiment(df, target)\n",
    "out.head()"
   ]
  },
  {
   "cell_type": "code",
   "execution_count": null,
   "metadata": {},
   "outputs": [],
   "source": [
    "KEY_TO_PLOT = 'mean_score'\n",
    "\n",
    "def plot_experiment(_df : pd.DataFrame, experiment_name : str):\n",
    "    \n",
    "    _df['group'] = _df['experiment_name'] + ' ' + _df['version']\n",
    "    \n",
    "    groups = _df['group'].unique()\n",
    "    attacks = _df['attack'].unique()\n",
    "    fig, axes = plt.subplots(nrows=len(groups), ncols=1, figsize=(10, 5 * len(groups)))\n",
    "    if len(groups) == 1:\n",
    "        axes = [axes]\n",
    "    for ax, group in zip(axes, groups):\n",
    "        group_df = _df[_df['group'] == group]\n",
    "        index = np.arange(len(attacks))\n",
    "        bar_width = 0.35\n",
    "        colors = plt.cm.tab20(np.linspace(0, 1, len(attacks)))\n",
    "        for i, attack in enumerate(attacks):\n",
    "            bar = ax.bar(index[i] * bar_width, group_df[group_df['attack'] == attack][KEY_TO_PLOT]['mean'], bar_width, \n",
    "                 yerr=group_df[group_df['attack'] == attack][KEY_TO_PLOT]['std'], label=attack, color=colors[i])\n",
    "        control_mean = group_df[group_df['attack'] == 'control'][KEY_TO_PLOT]['mean'].values[0]\n",
    "        ax.axhline(y=control_mean, color='black', linestyle='--', label='Control')\n",
    "        ax.set_title(f'Group: {group}')\n",
    "        ax.set_xlabel('Attack')\n",
    "        ax.set_ylabel('Mean Response')\n",
    "        ax.set_xticks(index * bar_width)\n",
    "        ax.set_xticklabels(attacks)\n",
    "        ax.tick_params(axis='x', rotation=45)\n",
    "        ax.legend(loc='center left', bbox_to_anchor=(1, 0.5))\n",
    "\n",
    "    plt.tight_layout()\n",
    "    plt.show()\n",
    "\n",
    "plot_experiment(out, target)"
   ]
  },
  {
   "cell_type": "code",
   "execution_count": null,
   "metadata": {},
   "outputs": [],
   "source": [
    "def get_difference_from_control(_df : pd.DataFrame):\n",
    "    control_mean, control_std = _df[_df['attack'] == 'control'][KEY_TO_PLOT].values[0]\n",
    "    other_attacks = _df[_df['attack'] != 'control']\n",
    "    other_attacks['diff'] = other_attacks[KEY_TO_PLOT]['mean'] - control_mean\n",
    "    other_attacks['diff_std'] = np.sqrt(other_attacks[KEY_TO_PLOT]['std']**2 + control_std**2)\n",
    "    return other_attacks\n",
    "    \n",
    "def plot_difference_from_control(_df : pd.DataFrame):\n",
    "    groups = _df['group'].unique()\n",
    "    attacks = _df['attack'].unique()\n",
    "    fig, axes = plt.subplots(nrows=len(groups), ncols=1, figsize=(10, 5 * len(groups)))\n",
    "    if len(groups) == 1:\n",
    "        axes = [axes]\n",
    "    for ax, group in zip(axes, groups):\n",
    "        group_df = _df[_df['group'] == group]\n",
    "        index = np.arange(len(attacks))\n",
    "        bar_width = 0.35\n",
    "        colors = plt.cm.tab20(np.linspace(0, 1, len(attacks)))\n",
    "        for i, attack in enumerate(attacks):\n",
    "            bar = ax.bar(index[i] * bar_width, group_df[group_df['attack'] == attack]['diff'], bar_width, \n",
    "                 yerr=group_df[group_df['attack'] == attack]['diff_std'], label=attack, color=colors[i])\n",
    "        ax.axhline(y=0, color='black', linestyle='--', label='Control')\n",
    "        ax.set_title(f'Group: {group}')\n",
    "        ax.set_xlabel('Attack')\n",
    "        ax.set_ylabel('Mean Response')\n",
    "        ax.set_xticks(index * bar_width)\n",
    "        ax.set_xticklabels(attacks)\n",
    "        ax.tick_params(axis='x', rotation=45)\n",
    "        ax.legend(loc='center left', bbox_to_anchor=(1, 0.5))\n",
    "\n",
    "diff = get_difference_from_control(out)\n",
    "plot_difference_from_control(diff)\n",
    "plt.tight_layout(pad=3.0)\n",
    "plt.show()\n"
   ]
  },
  {
   "cell_type": "code",
   "execution_count": null,
   "metadata": {},
   "outputs": [],
   "source": [
    "attack_summaries = diff.groupby(['attack'])['diff'].agg(['mean', 'std'])\n",
    "plt.bar(attack_summaries.index, attack_summaries['mean'], yerr=attack_summaries['std'])\n",
    "plt.xticks(rotation=45)\n",
    "plt.show()"
   ]
  }
 ],
 "metadata": {
  "kernelspec": {
   "display_name": "thriller",
   "language": "python",
   "name": "python3"
  },
  "language_info": {
   "codemirror_mode": {
    "name": "ipython",
    "version": 3
   },
   "file_extension": ".py",
   "mimetype": "text/x-python",
   "name": "python",
   "nbconvert_exporter": "python",
   "pygments_lexer": "ipython3",
   "version": "3.11.11"
  }
 },
 "nbformat": 4,
 "nbformat_minor": 2
}
