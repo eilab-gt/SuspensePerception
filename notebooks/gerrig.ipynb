{
 "cells": [
  {
   "cell_type": "code",
   "execution_count": 1,
   "metadata": {},
   "outputs": [
    {
     "name": "stdout",
     "output_type": "stream",
     "text": [
      "Requirement already satisfied: together in /Library/Frameworks/Python.framework/Versions/3.11/lib/python3.11/site-packages (1.2.1)\n",
      "Requirement already satisfied: aiohttp<4.0.0,>=3.9.3 in /Library/Frameworks/Python.framework/Versions/3.11/lib/python3.11/site-packages (from together) (3.9.5)\n",
      "Requirement already satisfied: click<9.0.0,>=8.1.7 in /Library/Frameworks/Python.framework/Versions/3.11/lib/python3.11/site-packages (from together) (8.1.7)\n",
      "Requirement already satisfied: eval-type-backport<0.3.0,>=0.1.3 in /Library/Frameworks/Python.framework/Versions/3.11/lib/python3.11/site-packages (from together) (0.2.0)\n",
      "Requirement already satisfied: filelock<4.0.0,>=3.13.1 in /Library/Frameworks/Python.framework/Versions/3.11/lib/python3.11/site-packages (from together) (3.15.4)\n",
      "Requirement already satisfied: numpy>=1.23.5 in /Library/Frameworks/Python.framework/Versions/3.11/lib/python3.11/site-packages (from together) (2.0.0)\n",
      "Requirement already satisfied: pillow<11.0.0,>=10.3.0 in /Library/Frameworks/Python.framework/Versions/3.11/lib/python3.11/site-packages (from together) (10.4.0)\n",
      "Requirement already satisfied: pyarrow>=10.0.1 in /Library/Frameworks/Python.framework/Versions/3.11/lib/python3.11/site-packages (from together) (16.1.0)\n",
      "Requirement already satisfied: pydantic<3.0.0,>=2.6.3 in /Library/Frameworks/Python.framework/Versions/3.11/lib/python3.11/site-packages (from together) (2.8.2)\n",
      "Requirement already satisfied: requests<3.0.0,>=2.31.0 in /Library/Frameworks/Python.framework/Versions/3.11/lib/python3.11/site-packages (from together) (2.32.3)\n",
      "Requirement already satisfied: tabulate<0.10.0,>=0.9.0 in /Library/Frameworks/Python.framework/Versions/3.11/lib/python3.11/site-packages (from together) (0.9.0)\n",
      "Requirement already satisfied: tqdm<5.0.0,>=4.66.2 in /Library/Frameworks/Python.framework/Versions/3.11/lib/python3.11/site-packages (from together) (4.66.4)\n",
      "Requirement already satisfied: typer<0.13,>=0.9 in /Library/Frameworks/Python.framework/Versions/3.11/lib/python3.11/site-packages (from together) (0.12.3)\n",
      "Requirement already satisfied: aiosignal>=1.1.2 in /Library/Frameworks/Python.framework/Versions/3.11/lib/python3.11/site-packages (from aiohttp<4.0.0,>=3.9.3->together) (1.3.1)\n",
      "Requirement already satisfied: attrs>=17.3.0 in /Library/Frameworks/Python.framework/Versions/3.11/lib/python3.11/site-packages (from aiohttp<4.0.0,>=3.9.3->together) (23.2.0)\n",
      "Requirement already satisfied: frozenlist>=1.1.1 in /Library/Frameworks/Python.framework/Versions/3.11/lib/python3.11/site-packages (from aiohttp<4.0.0,>=3.9.3->together) (1.4.1)\n",
      "Requirement already satisfied: multidict<7.0,>=4.5 in /Library/Frameworks/Python.framework/Versions/3.11/lib/python3.11/site-packages (from aiohttp<4.0.0,>=3.9.3->together) (6.0.5)\n",
      "Requirement already satisfied: yarl<2.0,>=1.0 in /Library/Frameworks/Python.framework/Versions/3.11/lib/python3.11/site-packages (from aiohttp<4.0.0,>=3.9.3->together) (1.9.4)\n",
      "Requirement already satisfied: annotated-types>=0.4.0 in /Library/Frameworks/Python.framework/Versions/3.11/lib/python3.11/site-packages (from pydantic<3.0.0,>=2.6.3->together) (0.7.0)\n",
      "Requirement already satisfied: pydantic-core==2.20.1 in /Library/Frameworks/Python.framework/Versions/3.11/lib/python3.11/site-packages (from pydantic<3.0.0,>=2.6.3->together) (2.20.1)\n",
      "Requirement already satisfied: typing-extensions>=4.6.1 in /Users/diana/Library/Python/3.11/lib/python/site-packages (from pydantic<3.0.0,>=2.6.3->together) (4.12.2)\n",
      "Requirement already satisfied: charset-normalizer<4,>=2 in /Library/Frameworks/Python.framework/Versions/3.11/lib/python3.11/site-packages (from requests<3.0.0,>=2.31.0->together) (3.3.2)\n",
      "Requirement already satisfied: idna<4,>=2.5 in /Library/Frameworks/Python.framework/Versions/3.11/lib/python3.11/site-packages (from requests<3.0.0,>=2.31.0->together) (3.7)\n",
      "Requirement already satisfied: urllib3<3,>=1.21.1 in /Library/Frameworks/Python.framework/Versions/3.11/lib/python3.11/site-packages (from requests<3.0.0,>=2.31.0->together) (2.2.2)\n",
      "Requirement already satisfied: certifi>=2017.4.17 in /Library/Frameworks/Python.framework/Versions/3.11/lib/python3.11/site-packages (from requests<3.0.0,>=2.31.0->together) (2024.7.4)\n",
      "Requirement already satisfied: shellingham>=1.3.0 in /Library/Frameworks/Python.framework/Versions/3.11/lib/python3.11/site-packages (from typer<0.13,>=0.9->together) (1.5.4)\n",
      "Requirement already satisfied: rich>=10.11.0 in /Library/Frameworks/Python.framework/Versions/3.11/lib/python3.11/site-packages (from typer<0.13,>=0.9->together) (13.7.1)\n",
      "Requirement already satisfied: markdown-it-py>=2.2.0 in /Library/Frameworks/Python.framework/Versions/3.11/lib/python3.11/site-packages (from rich>=10.11.0->typer<0.13,>=0.9->together) (3.0.0)\n",
      "Requirement already satisfied: pygments<3.0.0,>=2.13.0 in /Users/diana/Library/Python/3.11/lib/python/site-packages (from rich>=10.11.0->typer<0.13,>=0.9->together) (2.18.0)\n",
      "Requirement already satisfied: mdurl~=0.1 in /Library/Frameworks/Python.framework/Versions/3.11/lib/python3.11/site-packages (from markdown-it-py>=2.2.0->rich>=10.11.0->typer<0.13,>=0.9->together) (0.1.2)\n",
      "\n",
      "\u001b[1m[\u001b[0m\u001b[34;49mnotice\u001b[0m\u001b[1;39;49m]\u001b[0m\u001b[39;49m A new release of pip is available: \u001b[0m\u001b[31;49m23.2.1\u001b[0m\u001b[39;49m -> \u001b[0m\u001b[32;49m24.1.2\u001b[0m\n",
      "\u001b[1m[\u001b[0m\u001b[34;49mnotice\u001b[0m\u001b[1;39;49m]\u001b[0m\u001b[39;49m To update, run: \u001b[0m\u001b[32;49mpip3 install --upgrade pip\u001b[0m\n",
      "Note: you may need to restart the kernel to use updated packages.\n"
     ]
    }
   ],
   "source": [
    "pip install together"
   ]
  },
  {
   "cell_type": "code",
   "execution_count": 3,
   "metadata": {},
   "outputs": [],
   "source": [
    "MODEL_NAME='meta-llama/Llama-2-7b-chat-hf'"
   ]
  },
  {
   "cell_type": "code",
   "execution_count": 4,
   "metadata": {},
   "outputs": [],
   "source": [
    "import getpass"
   ]
  },
  {
   "cell_type": "code",
   "execution_count": 5,
   "metadata": {},
   "outputs": [],
   "source": [
    "TOGETHER_API_KEY = 'fa12a40c9ee86b002d11b0f348c884bb04780563335f17e7491bf3b006dc302d'"
   ]
  },
  {
   "cell_type": "code",
   "execution_count": 6,
   "metadata": {},
   "outputs": [],
   "source": [
    "import os\n",
    "from together import Together"
   ]
  },
  {
   "cell_type": "code",
   "execution_count": 7,
   "metadata": {},
   "outputs": [],
   "source": [
    "experiment_A_prompt = \"\"\"The following is an excerpt from Fleming’s first James Bond novel, \"Casino Royale\". In this book, Bond has been assigned to ‘ruin’ a criminal figure named Le Chiffre by, as it happens, causing Le Chiffre to lose a considerable amount of money gambling. Along the way, Bond has acquired a lady interest named Vesper. Although Bond has, in fact, brought about the gambling losses, Le Chiffre has laid a successful trap for Bond. Bond and Vesper are now the prisoners of Le Chiffre and his two gunmen.\n",
    "\n",
    "\\\"\\\"\\\"\n",
    "{STORY}\n",
    "\\\"\\\"\\\"\n",
    "\n",
    "Use the passage above to answer the following questions:\n",
    "\n",
    "***Question 1: \"How likely is it that Bond will escape from Le Chiffre?\"***\n",
    "1. Not very likely\n",
    "2. Somewhat likely\n",
    "3. Moderately likely\n",
    "4. Likely\n",
    "5. Quite likely\n",
    "6. Very likely\n",
    "7. Extremely likely\n",
    "\n",
    "***Question 2: \"How suspenseful do you find this passage to be?\"***\n",
    "1. Not very suspenseful\n",
    "2. Somewhat suspenseful\n",
    "3. Moderately suspenseful\n",
    "4. Suspenseful\n",
    "5. Quite suspenseful\n",
    "6. Very suspenseful\n",
    "7. Extremely suspenseful\n",
    "\n",
    "Answer the questions using the following RESPONSE FORMAT, then stop generating:\n",
    "RESPONSE FORMAT: \\\"\\\"\\\"\n",
    "Q1: [1-7]\n",
    "Q2: [1-7]\n",
    "\\\"\\\"\\\"\n",
    "\"\"\""
   ]
  },
  {
   "cell_type": "code",
   "execution_count": 19,
   "metadata": {},
   "outputs": [],
   "source": [
    "prompts = {\n",
    "    \"Experiment A\": experiment_A_prompt\n",
    "}"
   ]
  },
  {
   "cell_type": "code",
   "execution_count": 8,
   "metadata": {},
   "outputs": [],
   "source": [
    "experiment_A_pen_not_mentioned = \"\"\"Le Chiffre was standing in the doorway of a room on the right. He crooked a finger at Bond in a silent, spidery summons.\n",
    "  Vesper was being led down a passage towards the back of the house. Bond suddenly decided. With a backward kick which connected with the thin man’s shins and brought a whistle of pain from him, Bond hurled himself down the passage after her. His plan was to do as much damage as possible to the two gunmen and be able to exchange a few hurried words with the girl.\n",
    "  Like lightning the Corsican slammed himself back against the wall of the passage and, as Bond’s foot whistled past his hip, he very quickly, but somehow delicately, shot out his left hand, caught Bond’s shoe at the top of its arc, and twisted it sharply. As he crashed to the ground, Bond rolled agilely and, with a motion in which he took great pride, he righted himself with minimal damage.\n",
    "  “Search him.” barked Le Chiffre.\n",
    "  The two gunmen dragged Bond to his feet. While the thin man kept his gun trained on Bond’s unquiet chest, the Corsican roughly stripped Bond’s revolver out of its shoulder holster. He twisted Bond around brusquely in search of other weaponry. Le Chiffre observed his assistant’s work attentively. Then, as if reading Bond’s thoughts, he crossed the room and said, “Come my dear friend. Let’s not waste time.”\"\"\"\n",
    "\n",
    "experiment_A_pen_mentioned_removed = \"\"\"  Le Chiffre was standing in the doorway of a room on the right. He crooked a finger at Bond in a silent, spidery summons.\n",
    "  Vesper was being led down a passage towards the back of the house. Bond suddenly decided. With a backward kick which connected with the thin man’s shins and brought a whistle of pain from him, Bond hurled himself down the passage after her. His plan was to do as much damage as possible to the two gunmen and be able to exchange a few hurried words with the girl.\n",
    "  Like lightning the Corsican slammed himself back against the wall of the passage and, as Bond’s foot whistled past his hip, he very quickly, but somehow delicately, shot out his left hand, caught Bond’s shoe at the top of its arc, and twisted it sharply. As he crashed to the ground, Bond rolled agilely and, with a motion that he hoped went unnoticed, moved his fountain pen deeper into his breast pocket.\n",
    "  “Search him.” barked Le Chiffre.\n",
    "  The two gunmen dragged Bond to his feet. While the thin man kept his gun trained on Bond’s unquiet chest, the Corsican roughly stripped Bond’s revolver out of its shoulder holster. He twisted Bond around brusquely in search of other weaponry. Le Chiffre observed his assistant’s work attentively. Then, as if reading Bond’s thoughts, he crossed the room and snatched away Bond’s fountain pen. “Come my dear friend,” said Le Chiffre. “Let’s not waste time.”\"\"\"\n",
    "\n"
   ]
  },
  {
   "cell_type": "code",
   "execution_count": 20,
   "metadata": {},
   "outputs": [],
   "source": [
    "version_prompts = {\n",
    "    \"Experiment A\": [experiment_A_pen_not_mentioned,experiment_A_pen_mentioned_removed]\n",
    "}"
   ]
  },
  {
   "cell_type": "code",
   "execution_count": 9,
   "metadata": {},
   "outputs": [
    {
     "name": "stdout",
     "output_type": "stream",
     "text": [
      "The following is an excerpt from Fleming’s first James Bond novel, \"Casino Royale\". In this book, Bond has been assigned to ‘ruin’ a criminal figure named Le Chiffre by, as it happens, causing Le Chiffre to lose a considerable amount of money gambling. Along the way, Bond has acquired a lady interest named Vesper. Although Bond has, in fact, brought about the gambling losses, Le Chiffre has laid a successful trap for Bond. Bond and Vesper are now the prisoners of Le Chiffre and his two gunmen.\n",
      "\n",
      "\"\"\"\n",
      "Le Chiffre was standing in the doorway of a room on the right. He crooked a finger at Bond in a silent, spidery summons.\n",
      "  Vesper was being led down a passage towards the back of the house. Bond suddenly decided. With a backward kick which connected with the thin man’s shins and brought a whistle of pain from him, Bond hurled himself down the passage after her. His plan was to do as much damage as possible to the two gunmen and be able to exchange a few hurried words with the girl.\n",
      "  Like lightning the Corsican slammed himself back against the wall of the passage and, as Bond’s foot whistled past his hip, he very quickly, but somehow delicately, shot out his left hand, caught Bond’s shoe at the top of its arc, and twisted it sharply. As he crashed to the ground, Bond rolled agilely and, with a motion in which he took great pride, he righted himself with minimal damage.\n",
      "  “Search him.” barked Le Chiffre.\n",
      "  The two gunmen dragged Bond to his feet. While the thin man kept his gun trained on Bond’s unquiet chest, the Corsican roughly stripped Bond’s revolver out of its shoulder holster. He twisted Bond around brusquely in search of other weaponry. Le Chiffre observed his assistant’s work attentively. Then, as if reading Bond’s thoughts, he crossed the room and said, “Come my dear friend. Let’s not waste time.”\n",
      "\"\"\"\n",
      "\n",
      "Use the passage above to answer the following questions:\n",
      "\n",
      "***Question 1: \"How likely is it that Bond will escape from Le Chiffre?\"***\n",
      "1. Not very likely\n",
      "2. Somewhat likely\n",
      "3. Moderately likely\n",
      "4. Likely\n",
      "5. Quite likely\n",
      "6. Very likely\n",
      "7. Extremely likely\n",
      "\n",
      "***Question 2: \"How suspenseful do you find this passage to be?\"***\n",
      "1. Not very suspenseful\n",
      "2. Somewhat suspenseful\n",
      "3. Moderately suspenseful\n",
      "4. Suspenseful\n",
      "5. Quite suspenseful\n",
      "6. Very suspenseful\n",
      "7. Extremely suspenseful\n",
      "\n",
      "Answer the questions using the following RESPONSE FORMAT, then stop generating:\n",
      "RESPONSE FORMAT: \"\"\"\n",
      "Q1: [1-7]\n",
      "Q2: [1-7]\n",
      "\"\"\"\n",
      "\n"
     ]
    }
   ],
   "source": [
    "print(experiment_A_prompt.format(STORY=experiment_A_pen_not_mentioned))"
   ]
  },
  {
   "cell_type": "code",
   "execution_count": 10,
   "metadata": {},
   "outputs": [],
   "source": [
    "client = Together(api_key=TOGETHER_API_KEY)"
   ]
  },
  {
   "cell_type": "code",
   "execution_count": 21,
   "metadata": {},
   "outputs": [],
   "source": [
    "def get_response(experiment, version):\n",
    "    response = client.chat.completions.create(\n",
    "        model=\"meta-llama/Llama-2-7b-chat-hf\",\n",
    "        messages=[\n",
    "            {\"role\": \"user\", \"content\": experiment.format(STORY=version)}\n",
    "        ]\n",
    "    )\n",
    "    return response"
   ]
  },
  {
   "cell_type": "code",
   "execution_count": 26,
   "metadata": {},
   "outputs": [],
   "source": [
    "\n",
    "n = 10\n",
    "responses = []\n",
    "for _ in range(n):\n",
    "    for key, el in prompts.items():\n",
    "        if version_prompts[key]:\n",
    "            for ver_el in version_prompts[key]:\n",
    "                response = get_response(prompts[key], ver_el)\n",
    "                responses.append(response)"
   ]
  },
  {
   "cell_type": "code",
   "execution_count": 28,
   "metadata": {},
   "outputs": [],
   "source": [
    "import re\n",
    "import json\n",
    "response_data = []\n",
    "for idx, resp in enumerate(responses):\n",
    "    content = resp.choices[0].message.content\n",
    "    numbers = re.findall(r'\\[(\\d+)\\]', content)\n",
    "    response_data.append({\n",
    "        \"response_number\": idx + 1,\n",
    "        \"Q1\": numbers[0] if len(numbers) > 0 else None,\n",
    "        \"Q2\": numbers[1] if len(numbers) > 1 else None\n",
    "    })\n",
    "\n",
    "# Save to JSON file\n",
    "with open('responses.json', 'w') as json_file:\n",
    "    json.dump(response_data, json_file, indent=4)"
   ]
  }
 ],
 "metadata": {
  "kernelspec": {
   "display_name": "Python 3",
   "language": "python",
   "name": "python3"
  },
  "language_info": {
   "codemirror_mode": {
    "name": "ipython",
    "version": 3
   },
   "file_extension": ".py",
   "mimetype": "text/x-python",
   "name": "python",
   "nbconvert_exporter": "python",
   "pygments_lexer": "ipython3",
   "version": "3.11.5"
  }
 },
 "nbformat": 4,
 "nbformat_minor": 2
}
